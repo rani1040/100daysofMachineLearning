{
 "cells": [
  {
   "cell_type": "code",
   "execution_count": 1,
   "id": "9c2b80a1",
   "metadata": {},
   "outputs": [],
   "source": [
    "import pandas as pd"
   ]
  },
  {
   "cell_type": "code",
   "execution_count": 31,
   "id": "63e851f9",
   "metadata": {},
   "outputs": [],
   "source": [
    "import numpy as np"
   ]
  },
  {
   "cell_type": "code",
   "execution_count": 32,
   "id": "edc555e0",
   "metadata": {},
   "outputs": [],
   "source": [
    "date=pd.read_csv(\"orders.csv\")"
   ]
  },
  {
   "cell_type": "code",
   "execution_count": 33,
   "id": "01326b80",
   "metadata": {},
   "outputs": [],
   "source": [
    "\n",
    "time=pd.read_csv(\"messages.csv\")"
   ]
  },
  {
   "cell_type": "markdown",
   "id": "2e0e8a02",
   "metadata": {},
   "source": [
    "# DATE and TIME"
   ]
  },
  {
   "cell_type": "code",
   "execution_count": 34,
   "id": "ed57ce33",
   "metadata": {},
   "outputs": [
    {
     "data": {
      "text/html": [
       "<div>\n",
       "<style scoped>\n",
       "    .dataframe tbody tr th:only-of-type {\n",
       "        vertical-align: middle;\n",
       "    }\n",
       "\n",
       "    .dataframe tbody tr th {\n",
       "        vertical-align: top;\n",
       "    }\n",
       "\n",
       "    .dataframe thead th {\n",
       "        text-align: right;\n",
       "    }\n",
       "</style>\n",
       "<table border=\"1\" class=\"dataframe\">\n",
       "  <thead>\n",
       "    <tr style=\"text-align: right;\">\n",
       "      <th></th>\n",
       "      <th>date</th>\n",
       "      <th>product_id</th>\n",
       "      <th>city_id</th>\n",
       "      <th>orders</th>\n",
       "    </tr>\n",
       "  </thead>\n",
       "  <tbody>\n",
       "    <tr>\n",
       "      <th>0</th>\n",
       "      <td>2019-12-10</td>\n",
       "      <td>5628</td>\n",
       "      <td>25</td>\n",
       "      <td>3</td>\n",
       "    </tr>\n",
       "    <tr>\n",
       "      <th>1</th>\n",
       "      <td>2018-08-15</td>\n",
       "      <td>3646</td>\n",
       "      <td>14</td>\n",
       "      <td>157</td>\n",
       "    </tr>\n",
       "    <tr>\n",
       "      <th>2</th>\n",
       "      <td>2018-10-23</td>\n",
       "      <td>1859</td>\n",
       "      <td>25</td>\n",
       "      <td>1</td>\n",
       "    </tr>\n",
       "    <tr>\n",
       "      <th>3</th>\n",
       "      <td>2019-08-17</td>\n",
       "      <td>7292</td>\n",
       "      <td>25</td>\n",
       "      <td>1</td>\n",
       "    </tr>\n",
       "    <tr>\n",
       "      <th>4</th>\n",
       "      <td>2019-01-06</td>\n",
       "      <td>4344</td>\n",
       "      <td>25</td>\n",
       "      <td>3</td>\n",
       "    </tr>\n",
       "    <tr>\n",
       "      <th>...</th>\n",
       "      <td>...</td>\n",
       "      <td>...</td>\n",
       "      <td>...</td>\n",
       "      <td>...</td>\n",
       "    </tr>\n",
       "    <tr>\n",
       "      <th>995</th>\n",
       "      <td>2018-10-08</td>\n",
       "      <td>255</td>\n",
       "      <td>13</td>\n",
       "      <td>1</td>\n",
       "    </tr>\n",
       "    <tr>\n",
       "      <th>996</th>\n",
       "      <td>2018-12-06</td>\n",
       "      <td>5521</td>\n",
       "      <td>7</td>\n",
       "      <td>1</td>\n",
       "    </tr>\n",
       "    <tr>\n",
       "      <th>997</th>\n",
       "      <td>2019-05-07</td>\n",
       "      <td>487</td>\n",
       "      <td>26</td>\n",
       "      <td>14</td>\n",
       "    </tr>\n",
       "    <tr>\n",
       "      <th>998</th>\n",
       "      <td>2019-03-03</td>\n",
       "      <td>1503</td>\n",
       "      <td>21</td>\n",
       "      <td>2</td>\n",
       "    </tr>\n",
       "    <tr>\n",
       "      <th>999</th>\n",
       "      <td>2019-10-15</td>\n",
       "      <td>6371</td>\n",
       "      <td>7</td>\n",
       "      <td>22</td>\n",
       "    </tr>\n",
       "  </tbody>\n",
       "</table>\n",
       "<p>1000 rows × 4 columns</p>\n",
       "</div>"
      ],
      "text/plain": [
       "           date  product_id  city_id  orders\n",
       "0    2019-12-10        5628       25       3\n",
       "1    2018-08-15        3646       14     157\n",
       "2    2018-10-23        1859       25       1\n",
       "3    2019-08-17        7292       25       1\n",
       "4    2019-01-06        4344       25       3\n",
       "..          ...         ...      ...     ...\n",
       "995  2018-10-08         255       13       1\n",
       "996  2018-12-06        5521        7       1\n",
       "997  2019-05-07         487       26      14\n",
       "998  2019-03-03        1503       21       2\n",
       "999  2019-10-15        6371        7      22\n",
       "\n",
       "[1000 rows x 4 columns]"
      ]
     },
     "execution_count": 34,
     "metadata": {},
     "output_type": "execute_result"
    }
   ],
   "source": [
    "date"
   ]
  },
  {
   "cell_type": "code",
   "execution_count": 36,
   "id": "54ed3278",
   "metadata": {},
   "outputs": [
    {
     "name": "stdout",
     "output_type": "stream",
     "text": [
      "<class 'pandas.core.frame.DataFrame'>\n",
      "RangeIndex: 1000 entries, 0 to 999\n",
      "Data columns (total 4 columns):\n",
      " #   Column      Non-Null Count  Dtype \n",
      "---  ------      --------------  ----- \n",
      " 0   date        1000 non-null   object\n",
      " 1   product_id  1000 non-null   int64 \n",
      " 2   city_id     1000 non-null   int64 \n",
      " 3   orders      1000 non-null   int64 \n",
      "dtypes: int64(3), object(1)\n",
      "memory usage: 31.4+ KB\n"
     ]
    }
   ],
   "source": [
    "date.info()"
   ]
  },
  {
   "cell_type": "markdown",
   "id": "017bc9bd",
   "metadata": {},
   "source": [
    "##  Working with date\n"
   ]
  },
  {
   "cell_type": "markdown",
   "id": "52490307",
   "metadata": {},
   "source": [
    "we can se that our date is an object first lets convert it into date time "
   ]
  },
  {
   "cell_type": "code",
   "execution_count": 104,
   "id": "835abcdd",
   "metadata": {},
   "outputs": [
    {
     "name": "stdout",
     "output_type": "stream",
     "text": [
      "<class 'pandas.core.frame.DataFrame'>\n",
      "RangeIndex: 1000 entries, 0 to 999\n",
      "Data columns (total 13 columns):\n",
      " #   Column           Non-Null Count  Dtype         \n",
      "---  ------           --------------  -----         \n",
      " 0   date             1000 non-null   datetime64[ns]\n",
      " 1   product_id       1000 non-null   int64         \n",
      " 2   city_id          1000 non-null   int64         \n",
      " 3   orders           1000 non-null   int64         \n",
      " 4   date_year        1000 non-null   int64         \n",
      " 5   date_month       1000 non-null   int64         \n",
      " 6   month_name       1000 non-null   object        \n",
      " 7   date_day         1000 non-null   int64         \n",
      " 8   date_dow_name    1000 non-null   object        \n",
      " 9   date_is_weekend  1000 non-null   int32         \n",
      " 10  date_week        1000 non-null   int64         \n",
      " 11  quarter          1000 non-null   int64         \n",
      " 12  semester         1000 non-null   int32         \n",
      "dtypes: datetime64[ns](1), int32(2), int64(8), object(2)\n",
      "memory usage: 93.9+ KB\n"
     ]
    }
   ],
   "source": [
    "date['date']=pd.to_datetime(date['date'])\n",
    "date.info()"
   ]
  },
  {
   "cell_type": "markdown",
   "id": "e727867b",
   "metadata": {},
   "source": [
    "### 1. Extract year"
   ]
  },
  {
   "cell_type": "code",
   "execution_count": 105,
   "id": "ef6df450",
   "metadata": {},
   "outputs": [
    {
     "data": {
      "text/plain": [
       "0     2019-12-10\n",
       "1     2018-08-15\n",
       "2     2018-10-23\n",
       "3     2019-08-17\n",
       "4     2019-01-06\n",
       "         ...    \n",
       "995   2018-10-08\n",
       "996   2018-12-06\n",
       "997   2019-05-07\n",
       "998   2019-03-03\n",
       "999   2019-10-15\n",
       "Name: date, Length: 1000, dtype: datetime64[ns]"
      ]
     },
     "execution_count": 105,
     "metadata": {},
     "output_type": "execute_result"
    }
   ],
   "source": [
    "date['date']"
   ]
  },
  {
   "cell_type": "markdown",
   "id": "b8bfa616",
   "metadata": {},
   "source": [
    "we have to extract year from this "
   ]
  },
  {
   "cell_type": "code",
   "execution_count": 106,
   "id": "b0984818",
   "metadata": {},
   "outputs": [
    {
     "data": {
      "text/plain": [
       "0      2019\n",
       "1      2018\n",
       "2      2018\n",
       "3      2019\n",
       "4      2019\n",
       "       ... \n",
       "995    2018\n",
       "996    2018\n",
       "997    2019\n",
       "998    2019\n",
       "999    2019\n",
       "Name: date_year, Length: 1000, dtype: int64"
      ]
     },
     "execution_count": 106,
     "metadata": {},
     "output_type": "execute_result"
    }
   ],
   "source": [
    "date['date_year']=date['date'].dt.year\n",
    "date['date_year']\n"
   ]
  },
  {
   "cell_type": "markdown",
   "id": "2dff72ca",
   "metadata": {},
   "source": [
    "### 2. Extract Month"
   ]
  },
  {
   "cell_type": "code",
   "execution_count": 45,
   "id": "c15fda5b",
   "metadata": {},
   "outputs": [],
   "source": [
    "date['date_month']=date['date'].dt.month"
   ]
  },
  {
   "cell_type": "code",
   "execution_count": 46,
   "id": "067fecad",
   "metadata": {},
   "outputs": [
    {
     "data": {
      "text/plain": [
       "0      12\n",
       "1       8\n",
       "2      10\n",
       "3       8\n",
       "4       1\n",
       "       ..\n",
       "995    10\n",
       "996    12\n",
       "997     5\n",
       "998     3\n",
       "999    10\n",
       "Name: date_month, Length: 1000, dtype: int64"
      ]
     },
     "execution_count": 46,
     "metadata": {},
     "output_type": "execute_result"
    }
   ],
   "source": [
    "date['date_month']"
   ]
  },
  {
   "cell_type": "markdown",
   "id": "73101db9",
   "metadata": {},
   "source": [
    "#### month name"
   ]
  },
  {
   "cell_type": "code",
   "execution_count": 51,
   "id": "4a74c758",
   "metadata": {},
   "outputs": [
    {
     "data": {
      "text/html": [
       "<div>\n",
       "<style scoped>\n",
       "    .dataframe tbody tr th:only-of-type {\n",
       "        vertical-align: middle;\n",
       "    }\n",
       "\n",
       "    .dataframe tbody tr th {\n",
       "        vertical-align: top;\n",
       "    }\n",
       "\n",
       "    .dataframe thead th {\n",
       "        text-align: right;\n",
       "    }\n",
       "</style>\n",
       "<table border=\"1\" class=\"dataframe\">\n",
       "  <thead>\n",
       "    <tr style=\"text-align: right;\">\n",
       "      <th></th>\n",
       "      <th>date</th>\n",
       "      <th>product_id</th>\n",
       "      <th>city_id</th>\n",
       "      <th>orders</th>\n",
       "      <th>date_year</th>\n",
       "      <th>date_month</th>\n",
       "      <th>month_name</th>\n",
       "    </tr>\n",
       "  </thead>\n",
       "  <tbody>\n",
       "    <tr>\n",
       "      <th>726</th>\n",
       "      <td>2019-10-20</td>\n",
       "      <td>5794</td>\n",
       "      <td>6</td>\n",
       "      <td>1</td>\n",
       "      <td>2019</td>\n",
       "      <td>10</td>\n",
       "      <td>October</td>\n",
       "    </tr>\n",
       "    <tr>\n",
       "      <th>271</th>\n",
       "      <td>2019-10-20</td>\n",
       "      <td>5281</td>\n",
       "      <td>18</td>\n",
       "      <td>1</td>\n",
       "      <td>2019</td>\n",
       "      <td>10</td>\n",
       "      <td>October</td>\n",
       "    </tr>\n",
       "    <tr>\n",
       "      <th>926</th>\n",
       "      <td>2019-07-07</td>\n",
       "      <td>6640</td>\n",
       "      <td>26</td>\n",
       "      <td>48</td>\n",
       "      <td>2019</td>\n",
       "      <td>7</td>\n",
       "      <td>July</td>\n",
       "    </tr>\n",
       "    <tr>\n",
       "      <th>665</th>\n",
       "      <td>2018-09-29</td>\n",
       "      <td>146</td>\n",
       "      <td>16</td>\n",
       "      <td>5</td>\n",
       "      <td>2018</td>\n",
       "      <td>9</td>\n",
       "      <td>September</td>\n",
       "    </tr>\n",
       "  </tbody>\n",
       "</table>\n",
       "</div>"
      ],
      "text/plain": [
       "          date  product_id  city_id  orders  date_year  date_month month_name\n",
       "726 2019-10-20        5794        6       1       2019          10    October\n",
       "271 2019-10-20        5281       18       1       2019          10    October\n",
       "926 2019-07-07        6640       26      48       2019           7       July\n",
       "665 2018-09-29         146       16       5       2018           9  September"
      ]
     },
     "execution_count": 51,
     "metadata": {},
     "output_type": "execute_result"
    }
   ],
   "source": [
    "date['month_name']=date['date'].dt.month_name()\n",
    "date['month_name']\n",
    "date.sample(4)"
   ]
  },
  {
   "cell_type": "markdown",
   "id": "57edb5f5",
   "metadata": {},
   "source": [
    "### 3. Extract Days"
   ]
  },
  {
   "cell_type": "code",
   "execution_count": 107,
   "id": "95bbced6",
   "metadata": {},
   "outputs": [],
   "source": [
    "date['date_day']=date['date'].dt.day"
   ]
  },
  {
   "cell_type": "code",
   "execution_count": 108,
   "id": "7a90b94e",
   "metadata": {},
   "outputs": [
    {
     "data": {
      "text/plain": [
       "0      10\n",
       "1      15\n",
       "2      23\n",
       "3      17\n",
       "4       6\n",
       "       ..\n",
       "995     8\n",
       "996     6\n",
       "997     7\n",
       "998     3\n",
       "999    15\n",
       "Name: date_day, Length: 1000, dtype: int64"
      ]
     },
     "execution_count": 108,
     "metadata": {},
     "output_type": "execute_result"
    }
   ],
   "source": [
    "date['date_day']"
   ]
  },
  {
   "cell_type": "markdown",
   "id": "9a74eb8b",
   "metadata": {},
   "source": [
    "#### day of week"
   ]
  },
  {
   "cell_type": "code",
   "execution_count": 62,
   "id": "069a34b4",
   "metadata": {},
   "outputs": [
    {
     "data": {
      "text/plain": [
       "0      1\n",
       "1      2\n",
       "2      1\n",
       "3      5\n",
       "4      6\n",
       "      ..\n",
       "995    0\n",
       "996    3\n",
       "997    1\n",
       "998    6\n",
       "999    1\n",
       "Name: date, Length: 1000, dtype: int64"
      ]
     },
     "execution_count": 62,
     "metadata": {},
     "output_type": "execute_result"
    }
   ],
   "source": [
    "date['date'].dt.dayofweek"
   ]
  },
  {
   "cell_type": "markdown",
   "id": "d33fd53b",
   "metadata": {},
   "source": [
    "#### day of week name"
   ]
  },
  {
   "cell_type": "code",
   "execution_count": 67,
   "id": "417db28d",
   "metadata": {},
   "outputs": [
    {
     "data": {
      "text/html": [
       "<div>\n",
       "<style scoped>\n",
       "    .dataframe tbody tr th:only-of-type {\n",
       "        vertical-align: middle;\n",
       "    }\n",
       "\n",
       "    .dataframe tbody tr th {\n",
       "        vertical-align: top;\n",
       "    }\n",
       "\n",
       "    .dataframe thead th {\n",
       "        text-align: right;\n",
       "    }\n",
       "</style>\n",
       "<table border=\"1\" class=\"dataframe\">\n",
       "  <thead>\n",
       "    <tr style=\"text-align: right;\">\n",
       "      <th></th>\n",
       "      <th>date</th>\n",
       "      <th>date_year</th>\n",
       "      <th>date_month</th>\n",
       "      <th>month_name</th>\n",
       "      <th>date_day</th>\n",
       "      <th>date_dow_name</th>\n",
       "    </tr>\n",
       "  </thead>\n",
       "  <tbody>\n",
       "    <tr>\n",
       "      <th>0</th>\n",
       "      <td>2019-12-10</td>\n",
       "      <td>2019</td>\n",
       "      <td>12</td>\n",
       "      <td>December</td>\n",
       "      <td>10</td>\n",
       "      <td>Tuesday</td>\n",
       "    </tr>\n",
       "    <tr>\n",
       "      <th>1</th>\n",
       "      <td>2018-08-15</td>\n",
       "      <td>2018</td>\n",
       "      <td>8</td>\n",
       "      <td>August</td>\n",
       "      <td>15</td>\n",
       "      <td>Wednesday</td>\n",
       "    </tr>\n",
       "    <tr>\n",
       "      <th>2</th>\n",
       "      <td>2018-10-23</td>\n",
       "      <td>2018</td>\n",
       "      <td>10</td>\n",
       "      <td>October</td>\n",
       "      <td>23</td>\n",
       "      <td>Tuesday</td>\n",
       "    </tr>\n",
       "    <tr>\n",
       "      <th>3</th>\n",
       "      <td>2019-08-17</td>\n",
       "      <td>2019</td>\n",
       "      <td>8</td>\n",
       "      <td>August</td>\n",
       "      <td>17</td>\n",
       "      <td>Saturday</td>\n",
       "    </tr>\n",
       "    <tr>\n",
       "      <th>4</th>\n",
       "      <td>2019-01-06</td>\n",
       "      <td>2019</td>\n",
       "      <td>1</td>\n",
       "      <td>January</td>\n",
       "      <td>6</td>\n",
       "      <td>Sunday</td>\n",
       "    </tr>\n",
       "  </tbody>\n",
       "</table>\n",
       "</div>"
      ],
      "text/plain": [
       "        date  date_year  date_month month_name  date_day date_dow_name\n",
       "0 2019-12-10       2019          12   December        10       Tuesday\n",
       "1 2018-08-15       2018           8     August        15     Wednesday\n",
       "2 2018-10-23       2018          10    October        23       Tuesday\n",
       "3 2019-08-17       2019           8     August        17      Saturday\n",
       "4 2019-01-06       2019           1    January         6        Sunday"
      ]
     },
     "execution_count": 67,
     "metadata": {},
     "output_type": "execute_result"
    }
   ],
   "source": [
    "date['date_dow_name']=date['date'].dt.day_name()\n",
    "date['date_dow_name']\n",
    "date.drop(columns=['product_id','city_id','orders']).head()"
   ]
  },
  {
   "cell_type": "markdown",
   "id": "6afe467f",
   "metadata": {},
   "source": [
    "#### is weekend ?"
   ]
  },
  {
   "cell_type": "code",
   "execution_count": 69,
   "id": "cfa80d0c",
   "metadata": {},
   "outputs": [],
   "source": [
    "date['date_is_weekend']=np.where(date['date_dow_name'].isin(['Sunday','Saturday']),1,0)"
   ]
  },
  {
   "cell_type": "code",
   "execution_count": 70,
   "id": "edec8804",
   "metadata": {},
   "outputs": [
    {
     "data": {
      "text/plain": [
       "0      0\n",
       "1      0\n",
       "2      0\n",
       "3      1\n",
       "4      1\n",
       "      ..\n",
       "995    0\n",
       "996    0\n",
       "997    0\n",
       "998    1\n",
       "999    0\n",
       "Name: date_is_weekend, Length: 1000, dtype: int32"
      ]
     },
     "execution_count": 70,
     "metadata": {},
     "output_type": "execute_result"
    }
   ],
   "source": [
    "date['date_is_weekend']\n"
   ]
  },
  {
   "cell_type": "markdown",
   "id": "a47f1a32",
   "metadata": {},
   "source": [
    "\n",
    "### 4. Extract week of the year "
   ]
  },
  {
   "cell_type": "code",
   "execution_count": 109,
   "id": "151970fa",
   "metadata": {},
   "outputs": [
    {
     "name": "stderr",
     "output_type": "stream",
     "text": [
      "C:\\Users\\rani\\AppData\\Local\\Temp\\ipykernel_18056\\217776318.py:1: FutureWarning: Series.dt.weekofyear and Series.dt.week have been deprecated.  Please use Series.dt.isocalendar().week instead.\n",
      "  date['date_week']=date['date'].dt.week\n"
     ]
    },
    {
     "data": {
      "text/plain": [
       "0      50\n",
       "1      33\n",
       "2      43\n",
       "3      33\n",
       "4       1\n",
       "       ..\n",
       "995    41\n",
       "996    49\n",
       "997    19\n",
       "998     9\n",
       "999    42\n",
       "Name: date_week, Length: 1000, dtype: int64"
      ]
     },
     "execution_count": 109,
     "metadata": {},
     "output_type": "execute_result"
    }
   ],
   "source": [
    "date['date_week']=date['date'].dt.week\n",
    "date['date_week']"
   ]
  },
  {
   "cell_type": "markdown",
   "id": "6a6fcca6",
   "metadata": {},
   "source": [
    "### 5. Extract Quarteer"
   ]
  },
  {
   "cell_type": "code",
   "execution_count": 75,
   "id": "256e4d92",
   "metadata": {},
   "outputs": [],
   "source": [
    "date['quarter']=date['date'].dt.quarter"
   ]
  },
  {
   "cell_type": "code",
   "execution_count": 110,
   "id": "a9b4648a",
   "metadata": {},
   "outputs": [
    {
     "data": {
      "text/plain": [
       "0      4\n",
       "1      3\n",
       "2      4\n",
       "3      3\n",
       "4      1\n",
       "      ..\n",
       "995    4\n",
       "996    4\n",
       "997    2\n",
       "998    1\n",
       "999    4\n",
       "Name: quarter, Length: 1000, dtype: int64"
      ]
     },
     "execution_count": 110,
     "metadata": {},
     "output_type": "execute_result"
    }
   ],
   "source": [
    "date['quarter']"
   ]
  },
  {
   "cell_type": "markdown",
   "id": "6b174eb7",
   "metadata": {},
   "source": [
    "### 6. Extract Semester "
   ]
  },
  {
   "cell_type": "code",
   "execution_count": 111,
   "id": "a42391a8",
   "metadata": {},
   "outputs": [],
   "source": [
    "date['semester']=np.where(date['quarter'].isin([1,2]),1,2)"
   ]
  },
  {
   "cell_type": "code",
   "execution_count": 112,
   "id": "fc61f067",
   "metadata": {},
   "outputs": [
    {
     "data": {
      "text/plain": [
       "0      2\n",
       "1      2\n",
       "2      2\n",
       "3      2\n",
       "4      1\n",
       "      ..\n",
       "995    2\n",
       "996    2\n",
       "997    1\n",
       "998    1\n",
       "999    2\n",
       "Name: semester, Length: 1000, dtype: int32"
      ]
     },
     "execution_count": 112,
     "metadata": {},
     "output_type": "execute_result"
    }
   ],
   "source": [
    "date['semester']"
   ]
  },
  {
   "cell_type": "markdown",
   "id": "902f504e",
   "metadata": {},
   "source": [
    "### 7. Extract Time Elapsed Between dates"
   ]
  },
  {
   "cell_type": "code",
   "execution_count": 113,
   "id": "063dfe9f",
   "metadata": {},
   "outputs": [],
   "source": [
    "import datetime"
   ]
  },
  {
   "cell_type": "code",
   "execution_count": 115,
   "id": "13fc3c2a",
   "metadata": {},
   "outputs": [
    {
     "data": {
      "text/plain": [
       "datetime.datetime(2022, 6, 30, 8, 44, 20, 25515)"
      ]
     },
     "execution_count": 115,
     "metadata": {},
     "output_type": "execute_result"
    }
   ],
   "source": [
    "today=datetime.datetime.today()\n",
    "today"
   ]
  },
  {
   "cell_type": "code",
   "execution_count": 116,
   "id": "16ea1d1f",
   "metadata": {},
   "outputs": [
    {
     "data": {
      "text/plain": [
       "0      933 days 08:44:20.025515\n",
       "1     1415 days 08:44:20.025515\n",
       "2     1346 days 08:44:20.025515\n",
       "3     1048 days 08:44:20.025515\n",
       "4     1271 days 08:44:20.025515\n",
       "                 ...           \n",
       "995   1361 days 08:44:20.025515\n",
       "996   1302 days 08:44:20.025515\n",
       "997   1150 days 08:44:20.025515\n",
       "998   1215 days 08:44:20.025515\n",
       "999    989 days 08:44:20.025515\n",
       "Name: date, Length: 1000, dtype: timedelta64[ns]"
      ]
     },
     "execution_count": 116,
     "metadata": {},
     "output_type": "execute_result"
    }
   ],
   "source": [
    "today-date['date']"
   ]
  },
  {
   "cell_type": "code",
   "execution_count": 117,
   "id": "fa07f067",
   "metadata": {},
   "outputs": [
    {
     "data": {
      "text/plain": [
       "0       933\n",
       "1      1415\n",
       "2      1346\n",
       "3      1048\n",
       "4      1271\n",
       "       ... \n",
       "995    1361\n",
       "996    1302\n",
       "997    1150\n",
       "998    1215\n",
       "999     989\n",
       "Name: date, Length: 1000, dtype: int64"
      ]
     },
     "execution_count": 117,
     "metadata": {},
     "output_type": "execute_result"
    }
   ],
   "source": [
    "(today-date['date']).dt.days"
   ]
  },
  {
   "cell_type": "markdown",
   "id": "012cc393",
   "metadata": {},
   "source": [
    "#### months passed "
   ]
  },
  {
   "cell_type": "code",
   "execution_count": 86,
   "id": "902738ee",
   "metadata": {},
   "outputs": [
    {
     "data": {
      "text/plain": [
       "0      31.0\n",
       "1      47.0\n",
       "2      44.0\n",
       "3      34.0\n",
       "4      42.0\n",
       "       ... \n",
       "995    45.0\n",
       "996    43.0\n",
       "997    38.0\n",
       "998    40.0\n",
       "999    33.0\n",
       "Name: date, Length: 1000, dtype: float64"
      ]
     },
     "execution_count": 86,
     "metadata": {},
     "output_type": "execute_result"
    }
   ],
   "source": [
    "np.round((today-date['date'])/np.timedelta64(1,'M'),0)"
   ]
  },
  {
   "cell_type": "code",
   "execution_count": 118,
   "id": "ebf94580",
   "metadata": {},
   "outputs": [],
   "source": [
    "## Working with time"
   ]
  },
  {
   "cell_type": "code",
   "execution_count": 119,
   "id": "57efb316",
   "metadata": {},
   "outputs": [
    {
     "name": "stdout",
     "output_type": "stream",
     "text": [
      "<class 'pandas.core.frame.DataFrame'>\n",
      "RangeIndex: 1000 entries, 0 to 999\n",
      "Data columns (total 3 columns):\n",
      " #   Column  Non-Null Count  Dtype         \n",
      "---  ------  --------------  -----         \n",
      " 0   date    1000 non-null   datetime64[ns]\n",
      " 1   msg     1000 non-null   object        \n",
      " 2   hour    1000 non-null   int64         \n",
      "dtypes: datetime64[ns](1), int64(1), object(1)\n",
      "memory usage: 23.6+ KB\n"
     ]
    }
   ],
   "source": [
    "time.info()"
   ]
  },
  {
   "cell_type": "code",
   "execution_count": 120,
   "id": "936cd645",
   "metadata": {},
   "outputs": [
    {
     "data": {
      "text/html": [
       "<div>\n",
       "<style scoped>\n",
       "    .dataframe tbody tr th:only-of-type {\n",
       "        vertical-align: middle;\n",
       "    }\n",
       "\n",
       "    .dataframe tbody tr th {\n",
       "        vertical-align: top;\n",
       "    }\n",
       "\n",
       "    .dataframe thead th {\n",
       "        text-align: right;\n",
       "    }\n",
       "</style>\n",
       "<table border=\"1\" class=\"dataframe\">\n",
       "  <thead>\n",
       "    <tr style=\"text-align: right;\">\n",
       "      <th></th>\n",
       "      <th>date</th>\n",
       "      <th>msg</th>\n",
       "      <th>hour</th>\n",
       "    </tr>\n",
       "  </thead>\n",
       "  <tbody>\n",
       "    <tr>\n",
       "      <th>449</th>\n",
       "      <td>2013-03-18 00:39:00</td>\n",
       "      <td>к. яна я тебя люблю! ты самая лутшая!=*</td>\n",
       "      <td>0</td>\n",
       "    </tr>\n",
       "    <tr>\n",
       "      <th>330</th>\n",
       "      <td>2015-09-15 00:01:00</td>\n",
       "      <td>Парень ищет сейчас пышную жен для и/о 067 269 24</td>\n",
       "      <td>0</td>\n",
       "    </tr>\n",
       "    <tr>\n",
       "      <th>933</th>\n",
       "      <td>2014-06-02 00:36:00</td>\n",
       "      <td>Нужна ж 097-57-55-794</td>\n",
       "      <td>0</td>\n",
       "    </tr>\n",
       "    <tr>\n",
       "      <th>629</th>\n",
       "      <td>2014-09-05 00:24:00</td>\n",
       "      <td>замужняя устала от быта хочу любви и романтики...</td>\n",
       "      <td>0</td>\n",
       "    </tr>\n",
       "  </tbody>\n",
       "</table>\n",
       "</div>"
      ],
      "text/plain": [
       "                   date                                                msg  \\\n",
       "449 2013-03-18 00:39:00            к. яна я тебя люблю! ты самая лутшая!=*   \n",
       "330 2015-09-15 00:01:00   Парень ищет сейчас пышную жен для и/о 067 269 24   \n",
       "933 2014-06-02 00:36:00                              Нужна ж 097-57-55-794   \n",
       "629 2014-09-05 00:24:00  замужняя устала от быта хочу любви и романтики...   \n",
       "\n",
       "     hour  \n",
       "449     0  \n",
       "330     0  \n",
       "933     0  \n",
       "629     0  "
      ]
     },
     "execution_count": 120,
     "metadata": {},
     "output_type": "execute_result"
    }
   ],
   "source": [
    "time.sample(4)"
   ]
  },
  {
   "cell_type": "code",
   "execution_count": 121,
   "id": "18d1a06f",
   "metadata": {},
   "outputs": [],
   "source": [
    "time['date']=pd.to_datetime(time['date'])"
   ]
  },
  {
   "cell_type": "code",
   "execution_count": 122,
   "id": "69c6634f",
   "metadata": {},
   "outputs": [
    {
     "name": "stdout",
     "output_type": "stream",
     "text": [
      "<class 'pandas.core.frame.DataFrame'>\n",
      "RangeIndex: 1000 entries, 0 to 999\n",
      "Data columns (total 3 columns):\n",
      " #   Column  Non-Null Count  Dtype         \n",
      "---  ------  --------------  -----         \n",
      " 0   date    1000 non-null   datetime64[ns]\n",
      " 1   msg     1000 non-null   object        \n",
      " 2   hour    1000 non-null   int64         \n",
      "dtypes: datetime64[ns](1), int64(1), object(1)\n",
      "memory usage: 23.6+ KB\n"
     ]
    }
   ],
   "source": [
    "time.info()"
   ]
  },
  {
   "cell_type": "code",
   "execution_count": 123,
   "id": "11e49dc2",
   "metadata": {},
   "outputs": [],
   "source": [
    "time['hour']=time['date'].dt.hour"
   ]
  },
  {
   "cell_type": "code",
   "execution_count": 124,
   "id": "00e8335f",
   "metadata": {},
   "outputs": [
    {
     "data": {
      "text/plain": [
       "0      50\n",
       "1      40\n",
       "2      21\n",
       "3      31\n",
       "4      11\n",
       "       ..\n",
       "995    50\n",
       "996    14\n",
       "997    37\n",
       "998    34\n",
       "999    25\n",
       "Name: date, Length: 1000, dtype: int64"
      ]
     },
     "execution_count": 124,
     "metadata": {},
     "output_type": "execute_result"
    }
   ],
   "source": [
    "time['date'].dt.minute"
   ]
  },
  {
   "cell_type": "code",
   "execution_count": 125,
   "id": "471c9c2f",
   "metadata": {},
   "outputs": [
    {
     "data": {
      "text/plain": [
       "0      0\n",
       "1      0\n",
       "2      0\n",
       "3      0\n",
       "4      0\n",
       "      ..\n",
       "995    0\n",
       "996    0\n",
       "997    0\n",
       "998    0\n",
       "999    0\n",
       "Name: date, Length: 1000, dtype: int64"
      ]
     },
     "execution_count": 125,
     "metadata": {},
     "output_type": "execute_result"
    }
   ],
   "source": [
    "time['date'].dt.second"
   ]
  },
  {
   "cell_type": "code",
   "execution_count": 126,
   "id": "11bae7cc",
   "metadata": {},
   "outputs": [
    {
     "data": {
      "text/plain": [
       "0      00:50:00\n",
       "1      23:40:00\n",
       "2      00:21:00\n",
       "3      00:31:00\n",
       "4      23:11:00\n",
       "         ...   \n",
       "995    00:50:00\n",
       "996    23:14:00\n",
       "997    23:37:00\n",
       "998    23:34:00\n",
       "999    23:25:00\n",
       "Name: date, Length: 1000, dtype: object"
      ]
     },
     "execution_count": 126,
     "metadata": {},
     "output_type": "execute_result"
    }
   ],
   "source": [
    "time['date'].dt.time"
   ]
  },
  {
   "cell_type": "code",
   "execution_count": 127,
   "id": "dfc00324",
   "metadata": {},
   "outputs": [
    {
     "data": {
      "text/plain": [
       "0     3119 days 07:54:20.025515\n",
       "1     2983 days 09:04:20.025515\n",
       "2     3469 days 08:23:20.025515\n",
       "3     2771 days 08:13:20.025515\n",
       "4     3168 days 09:33:20.025515\n",
       "                 ...           \n",
       "995   3758 days 07:54:20.025515\n",
       "996   3079 days 09:30:20.025515\n",
       "997   3544 days 09:07:20.025515\n",
       "998   3660 days 09:10:20.025515\n",
       "999   2932 days 09:19:20.025515\n",
       "Name: date, Length: 1000, dtype: timedelta64[ns]"
      ]
     },
     "execution_count": 127,
     "metadata": {},
     "output_type": "execute_result"
    }
   ],
   "source": [
    "today-time['date']"
   ]
  },
  {
   "cell_type": "code",
   "execution_count": 101,
   "id": "61c422ab",
   "metadata": {},
   "outputs": [
    {
     "data": {
      "text/plain": [
       "0      2.695095e+08\n",
       "1      2.577633e+08\n",
       "2      2.997513e+08\n",
       "3      2.394435e+08\n",
       "4      2.737491e+08\n",
       "           ...     \n",
       "995    3.247191e+08\n",
       "996    2.660593e+08\n",
       "997    3.062339e+08\n",
       "998    3.162565e+08\n",
       "999    2.533578e+08\n",
       "Name: date, Length: 1000, dtype: float64"
      ]
     },
     "execution_count": 101,
     "metadata": {},
     "output_type": "execute_result"
    }
   ],
   "source": [
    "(today - time['date'])/np.timedelta64(1,'s')"
   ]
  },
  {
   "cell_type": "code",
   "execution_count": 102,
   "id": "f4e0b71c",
   "metadata": {},
   "outputs": [
    {
     "data": {
      "text/plain": [
       "0      4.491825e+06\n",
       "1      4.296055e+06\n",
       "2      4.995854e+06\n",
       "3      3.990724e+06\n",
       "4      4.562484e+06\n",
       "           ...     \n",
       "995    5.411985e+06\n",
       "996    4.434321e+06\n",
       "997    5.103898e+06\n",
       "998    5.270941e+06\n",
       "999    4.222630e+06\n",
       "Name: date, Length: 1000, dtype: float64"
      ]
     },
     "execution_count": 102,
     "metadata": {},
     "output_type": "execute_result"
    }
   ],
   "source": [
    "(today - time['date'])/np.timedelta64(1,'m')"
   ]
  },
  {
   "cell_type": "code",
   "execution_count": 103,
   "id": "f9b3fa5d",
   "metadata": {},
   "outputs": [
    {
     "data": {
      "text/plain": [
       "0      74863.754858\n",
       "1      71600.921524\n",
       "2      83264.238191\n",
       "3      66512.071524\n",
       "4      76041.404858\n",
       "           ...     \n",
       "995    90199.754858\n",
       "996    73905.354858\n",
       "997    85064.971524\n",
       "998    87849.021524\n",
       "999    70377.171524\n",
       "Name: date, Length: 1000, dtype: float64"
      ]
     },
     "execution_count": 103,
     "metadata": {},
     "output_type": "execute_result"
    }
   ],
   "source": [
    "\n",
    "# in hours\n",
    "\n",
    "(today - time['date'])/np.timedelta64(1,'h')"
   ]
  },
  {
   "cell_type": "code",
   "execution_count": null,
   "id": "633926db",
   "metadata": {},
   "outputs": [],
   "source": []
  }
 ],
 "metadata": {
  "kernelspec": {
   "display_name": "Python 3 (ipykernel)",
   "language": "python",
   "name": "python3"
  },
  "language_info": {
   "codemirror_mode": {
    "name": "ipython",
    "version": 3
   },
   "file_extension": ".py",
   "mimetype": "text/x-python",
   "name": "python",
   "nbconvert_exporter": "python",
   "pygments_lexer": "ipython3",
   "version": "3.9.7"
  }
 },
 "nbformat": 4,
 "nbformat_minor": 5
}

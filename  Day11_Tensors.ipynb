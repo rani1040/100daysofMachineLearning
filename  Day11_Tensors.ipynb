{
 "cells": [
  {
   "cell_type": "code",
   "execution_count": 1,
   "metadata": {},
   "outputs": [],
   "source": [
    "import numpy as np\n",
    "#nd array is also known as tensor"
   ]
  },
  {
   "cell_type": "code",
   "execution_count": 2,
   "metadata": {},
   "outputs": [],
   "source": [
    "a=np.array(10)"
   ]
  },
  {
   "cell_type": "code",
   "execution_count": 3,
   "metadata": {},
   "outputs": [
    {
     "data": {
      "text/plain": [
       "array(10)"
      ]
     },
     "execution_count": 3,
     "metadata": {},
     "output_type": "execute_result"
    }
   ],
   "source": [
    "a #this is scaler "
   ]
  },
  {
   "cell_type": "code",
   "execution_count": 4,
   "metadata": {},
   "outputs": [
    {
     "data": {
      "text/plain": [
       "0"
      ]
     },
     "execution_count": 4,
     "metadata": {},
     "output_type": "execute_result"
    }
   ],
   "source": [
    "a.ndim"
   ]
  },
  {
   "cell_type": "markdown",
   "metadata": {},
   "source": [
    "# 1D Tensor/Vector/Array"
   ]
  },
  {
   "cell_type": "markdown",
   "metadata": {},
   "source": [
    "###### axis means dimension ,if you have n dimension array means n axis . axis also known as rank.\n",
    "##### 1 D Tensor is a vector ,and vector has number_of_element dimension.\n",
    "##### in tensor we are adding scaler /vector\n"
   ]
  },
  {
   "cell_type": "code",
   "execution_count": 16,
   "metadata": {},
   "outputs": [],
   "source": [
    "one_D_tensor=np.array([1,2,3,4])"
   ]
  },
  {
   "cell_type": "code",
   "execution_count": 17,
   "metadata": {},
   "outputs": [
    {
     "data": {
      "text/plain": [
       "1"
      ]
     },
     "execution_count": 17,
     "metadata": {},
     "output_type": "execute_result"
    }
   ],
   "source": [
    "one_D_tensor.ndim"
   ]
  },
  {
   "cell_type": "markdown",
   "metadata": {},
   "source": [
    "# 2D Tensor/Matrics"
   ]
  },
  {
   "cell_type": "code",
   "execution_count": 18,
   "metadata": {},
   "outputs": [],
   "source": [
    "two_D_tensor=np.array([[1,2,3,4],[5,6,7,8]])"
   ]
  },
  {
   "cell_type": "code",
   "execution_count": 19,
   "metadata": {},
   "outputs": [
    {
     "data": {
      "text/plain": [
       "2"
      ]
     },
     "execution_count": 19,
     "metadata": {},
     "output_type": "execute_result"
    }
   ],
   "source": [
    "two_D_tensor.ndim"
   ]
  },
  {
   "cell_type": "markdown",
   "metadata": {},
   "source": [
    "# ND Tensors"
   ]
  },
  {
   "cell_type": "markdown",
   "metadata": {},
   "source": [
    "## Rank,Axis and Shape\n",
    "number of axis = Rank = number of dimension\n",
    "Shape = number of rows and columns\n",
    "Size =total number of item "
   ]
  },
  {
   "cell_type": "markdown",
   "metadata": {},
   "source": [
    "## Examples"
   ]
  },
  {
   "cell_type": "markdown",
   "metadata": {},
   "source": [
    " #### 1 Dimension Tensor or 1 Dimension\n",
    " \n",
    " Vector having 3 Dimension in direction of 1 ,2 and 3\n",
    " \n",
    " eg.\n",
    " \n",
    " [1,2,3]\n",
    " \n",
    " \n",
    " \n",
    " "
   ]
  },
  {
   "cell_type": "markdown",
   "metadata": {},
   "source": [
    " \n",
    " \n",
    " \n",
    "#### 2 D vector :collection of each student record is known as matrix --\n",
    "\n",
    "eg.\n",
    "\n",
    "\n",
    "[\n",
    "    [\"rani\",\"rathore\",1040],\n",
    "    \n",
    "    [\"aditya\",\"singh\",8729]\n",
    "]"
   ]
  },
  {
   "cell_type": "markdown",
   "metadata": {},
   "source": [
    "#### 3 D tensor mostly found in NLP\n",
    "\n",
    "we have some text this is our input \n",
    "\n",
    "\n",
    "Vectorization : we have to convert given text into numbers.\n",
    "    \n",
    "    \n",
    "Hii Rani\n",
    "\n",
    "Hii Riya\n",
    "\n",
    "Hii Rahi\n",
    "\n",
    "lets create a list of unique words \n",
    "we will be representing each as vector\n",
    "\n",
    "[ hii ,Rani, Riya, Rahi]\n",
    "\n",
    "\n",
    "hiii=[1,0,0,0]\n",
    "\n",
    "\n",
    "Rani=[0,1,0,0]\n",
    "\n",
    "Hii Rani=[[1,0,0,0],[0,1,0,0]]\n",
    "\n",
    "\n",
    "and one more tensor storing this 2d tensor =[\n",
    "\n",
    "    [ [1,0,0,0], [0,1,0,0]],\n",
    "    \n",
    "    \n",
    "    [ [1,0,0,0], [0,0,1,0] ]\n",
    "    \n",
    "    \n",
    "]\n",
    "\n"
   ]
  },
  {
   "cell_type": "markdown",
   "metadata": {},
   "source": [
    "#### 4 D tensor\n",
    "pixel in image \n",
    "batches of images\n",
    "\n"
   ]
  },
  {
   "cell_type": "markdown",
   "metadata": {},
   "source": [
    "##### 5 D vector\n",
    "eg.\n",
    "video\n",
    "\n",
    "we can only see 12 images in one second-- persistence of vision"
   ]
  },
  {
   "cell_type": "markdown",
   "metadata": {},
   "source": [
    "fps-- frames per second \n",
    "\n",
    "60 second video\n",
    "30 fps\n",
    "480 p --> its resolution is 480*720 colored means 3 channel\n",
    "\n",
    "30*60=1800\n",
    "\n",
    "-->video data =(1800,480,720,3)\n",
    "collection of videos\n",
    "(4,1800,480,720,3)\n",
    "27 gb data \n",
    "\n",
    "we need 27 gb space need for 60 second video"
   ]
  },
  {
   "cell_type": "code",
   "execution_count": null,
   "metadata": {},
   "outputs": [],
   "source": []
  }
 ],
 "metadata": {
  "kernelspec": {
   "display_name": "Python 3",
   "language": "python",
   "name": "python3"
  },
  "language_info": {
   "codemirror_mode": {
    "name": "ipython",
    "version": 3
   },
   "file_extension": ".py",
   "mimetype": "text/x-python",
   "name": "python",
   "nbconvert_exporter": "python",
   "pygments_lexer": "ipython3",
   "version": "3.8.5"
  }
 },
 "nbformat": 4,
 "nbformat_minor": 4
}
